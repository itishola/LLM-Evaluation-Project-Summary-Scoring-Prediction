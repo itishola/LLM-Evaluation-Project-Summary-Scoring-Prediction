{
 "cells": [
  {
   "cell_type": "markdown",
   "id": "f5a5d213-e5f9-45ab-a567-93012fb3b8eb",
   "metadata": {},
   "source": [
    "### LLM Evaluation Project: Summary Scoring Prediction"
   ]
  },
  {
   "cell_type": "markdown",
   "id": "a8183e04-f5a8-45ad-97a9-58c55f59f9d7",
   "metadata": {},
   "source": [
    "#### The dataset comprises about 24,000 summaries written by students in grades 3-12 of passages on a variety of topics and genres. These summaries have been assigned scores for both content and wording. The goal is to predict content and wording scores for summaries on unseen topics."
   ]
  },
  {
   "cell_type": "markdown",
   "id": "34e8489e-b6f5-4da6-b9be-ee33deb6b55a",
   "metadata": {},
   "source": [
    "#### Understanding the Problem\n",
    "It is required to predict content and wording scores for student-written summaries (grades 3-12) across various topics. The key aspects are:\n",
    "\n",
    "Dataset: 24,000 training summaries with content/wording scores\n",
    "\n",
    "Test set: ~17,000 summaries on unseen prompts\n",
    "\n",
    "Evaluation: Mean Columnwise Root Mean Squared Error (MCRMSE) on both scores"
   ]
  },
  {
   "cell_type": "markdown",
   "id": "129baade-fc6d-411e-8602-20677a1a813a",
   "metadata": {},
   "source": [
    "#### 1. Data Preparation"
   ]
  },
  {
   "cell_type": "code",
   "execution_count": 1,
   "id": "a897c164-6a92-47a8-814e-62639a651f7c",
   "metadata": {},
   "outputs": [],
   "source": [
    "import pandas as pd\n",
    "from sklearn.model_selection import train_test_split\n",
    "\n",
    "# Load data\n",
    "train_summaries = pd.read_csv('summaries_train.csv')\n",
    "train_prompts = pd.read_csv('prompts_train.csv')\n",
    "test_summaries = pd.read_csv('summaries_test.csv')\n",
    "test_prompts = pd.read_csv('prompts_test.csv')\n",
    "\n",
    "# Merge prompts with summaries\n",
    "train_data = train_summaries.merge(train_prompts, on='prompt_id')\n",
    "test_data = test_summaries.merge(test_prompts, on='prompt_id')"
   ]
  },
  {
   "cell_type": "code",
   "execution_count": 2,
   "id": "cade4002-fbfa-4ad4-aa62-c431e49130a4",
   "metadata": {},
   "outputs": [
    {
     "data": {
      "text/html": [
       "<div>\n",
       "<style scoped>\n",
       "    .dataframe tbody tr th:only-of-type {\n",
       "        vertical-align: middle;\n",
       "    }\n",
       "\n",
       "    .dataframe tbody tr th {\n",
       "        vertical-align: top;\n",
       "    }\n",
       "\n",
       "    .dataframe thead th {\n",
       "        text-align: right;\n",
       "    }\n",
       "</style>\n",
       "<table border=\"1\" class=\"dataframe\">\n",
       "  <thead>\n",
       "    <tr style=\"text-align: right;\">\n",
       "      <th></th>\n",
       "      <th>student_id</th>\n",
       "      <th>prompt_id</th>\n",
       "      <th>text</th>\n",
       "      <th>content</th>\n",
       "      <th>wording</th>\n",
       "      <th>prompt_question</th>\n",
       "      <th>prompt_title</th>\n",
       "      <th>prompt_text</th>\n",
       "    </tr>\n",
       "  </thead>\n",
       "  <tbody>\n",
       "    <tr>\n",
       "      <th>0</th>\n",
       "      <td>000e8c3c7ddb</td>\n",
       "      <td>814d6b</td>\n",
       "      <td>The third wave was an experimentto see how peo...</td>\n",
       "      <td>0.205683</td>\n",
       "      <td>0.380538</td>\n",
       "      <td>Summarize how the Third Wave developed over su...</td>\n",
       "      <td>The Third Wave</td>\n",
       "      <td>Background \\nThe Third Wave experiment took pl...</td>\n",
       "    </tr>\n",
       "    <tr>\n",
       "      <th>1</th>\n",
       "      <td>0020ae56ffbf</td>\n",
       "      <td>ebad26</td>\n",
       "      <td>They would rub it up with soda to make the sme...</td>\n",
       "      <td>-0.548304</td>\n",
       "      <td>0.506755</td>\n",
       "      <td>Summarize the various ways the factory would u...</td>\n",
       "      <td>Excerpt from The Jungle</td>\n",
       "      <td>With one member trimming beef in a cannery, an...</td>\n",
       "    </tr>\n",
       "    <tr>\n",
       "      <th>2</th>\n",
       "      <td>004e978e639e</td>\n",
       "      <td>3b9047</td>\n",
       "      <td>In Egypt, there were many occupations and soci...</td>\n",
       "      <td>3.128928</td>\n",
       "      <td>4.231226</td>\n",
       "      <td>In complete sentences, summarize the structure...</td>\n",
       "      <td>Egyptian Social Structure</td>\n",
       "      <td>Egyptian society was structured like a pyramid...</td>\n",
       "    </tr>\n",
       "    <tr>\n",
       "      <th>3</th>\n",
       "      <td>005ab0199905</td>\n",
       "      <td>3b9047</td>\n",
       "      <td>The highest class was Pharaohs these people we...</td>\n",
       "      <td>-0.210614</td>\n",
       "      <td>-0.471415</td>\n",
       "      <td>In complete sentences, summarize the structure...</td>\n",
       "      <td>Egyptian Social Structure</td>\n",
       "      <td>Egyptian society was structured like a pyramid...</td>\n",
       "    </tr>\n",
       "    <tr>\n",
       "      <th>4</th>\n",
       "      <td>0070c9e7af47</td>\n",
       "      <td>814d6b</td>\n",
       "      <td>The Third Wave developed  rapidly because the ...</td>\n",
       "      <td>3.272894</td>\n",
       "      <td>3.219757</td>\n",
       "      <td>Summarize how the Third Wave developed over su...</td>\n",
       "      <td>The Third Wave</td>\n",
       "      <td>Background \\nThe Third Wave experiment took pl...</td>\n",
       "    </tr>\n",
       "  </tbody>\n",
       "</table>\n",
       "</div>"
      ],
      "text/plain": [
       "     student_id prompt_id                                               text  \\\n",
       "0  000e8c3c7ddb    814d6b  The third wave was an experimentto see how peo...   \n",
       "1  0020ae56ffbf    ebad26  They would rub it up with soda to make the sme...   \n",
       "2  004e978e639e    3b9047  In Egypt, there were many occupations and soci...   \n",
       "3  005ab0199905    3b9047  The highest class was Pharaohs these people we...   \n",
       "4  0070c9e7af47    814d6b  The Third Wave developed  rapidly because the ...   \n",
       "\n",
       "    content   wording                                    prompt_question  \\\n",
       "0  0.205683  0.380538  Summarize how the Third Wave developed over su...   \n",
       "1 -0.548304  0.506755  Summarize the various ways the factory would u...   \n",
       "2  3.128928  4.231226  In complete sentences, summarize the structure...   \n",
       "3 -0.210614 -0.471415  In complete sentences, summarize the structure...   \n",
       "4  3.272894  3.219757  Summarize how the Third Wave developed over su...   \n",
       "\n",
       "                prompt_title  \\\n",
       "0             The Third Wave   \n",
       "1    Excerpt from The Jungle   \n",
       "2  Egyptian Social Structure   \n",
       "3  Egyptian Social Structure   \n",
       "4             The Third Wave   \n",
       "\n",
       "                                         prompt_text  \n",
       "0  Background \\nThe Third Wave experiment took pl...  \n",
       "1  With one member trimming beef in a cannery, an...  \n",
       "2  Egyptian society was structured like a pyramid...  \n",
       "3  Egyptian society was structured like a pyramid...  \n",
       "4  Background \\nThe Third Wave experiment took pl...  "
      ]
     },
     "execution_count": 2,
     "metadata": {},
     "output_type": "execute_result"
    }
   ],
   "source": [
    "train_data.head()"
   ]
  },
  {
   "cell_type": "code",
   "execution_count": 3,
   "id": "86b920fc-7494-43fb-961d-03233afdfc8f",
   "metadata": {},
   "outputs": [
    {
     "data": {
      "text/html": [
       "<div>\n",
       "<style scoped>\n",
       "    .dataframe tbody tr th:only-of-type {\n",
       "        vertical-align: middle;\n",
       "    }\n",
       "\n",
       "    .dataframe tbody tr th {\n",
       "        vertical-align: top;\n",
       "    }\n",
       "\n",
       "    .dataframe thead th {\n",
       "        text-align: right;\n",
       "    }\n",
       "</style>\n",
       "<table border=\"1\" class=\"dataframe\">\n",
       "  <thead>\n",
       "    <tr style=\"text-align: right;\">\n",
       "      <th></th>\n",
       "      <th>student_id</th>\n",
       "      <th>prompt_id</th>\n",
       "      <th>text</th>\n",
       "      <th>prompt_question</th>\n",
       "      <th>prompt_title</th>\n",
       "      <th>prompt_text</th>\n",
       "    </tr>\n",
       "  </thead>\n",
       "  <tbody>\n",
       "    <tr>\n",
       "      <th>0</th>\n",
       "      <td>000000ffffff</td>\n",
       "      <td>abc123</td>\n",
       "      <td>Example text 1</td>\n",
       "      <td>Summarize...</td>\n",
       "      <td>Example Title 1</td>\n",
       "      <td>Heading\\nText...</td>\n",
       "    </tr>\n",
       "    <tr>\n",
       "      <th>1</th>\n",
       "      <td>111111eeeeee</td>\n",
       "      <td>def789</td>\n",
       "      <td>Example text 2</td>\n",
       "      <td>Summarize...</td>\n",
       "      <td>Example Title 2</td>\n",
       "      <td>Heading\\nText...</td>\n",
       "    </tr>\n",
       "    <tr>\n",
       "      <th>2</th>\n",
       "      <td>222222cccccc</td>\n",
       "      <td>abc123</td>\n",
       "      <td>Example text 3</td>\n",
       "      <td>Summarize...</td>\n",
       "      <td>Example Title 1</td>\n",
       "      <td>Heading\\nText...</td>\n",
       "    </tr>\n",
       "    <tr>\n",
       "      <th>3</th>\n",
       "      <td>333333dddddd</td>\n",
       "      <td>def789</td>\n",
       "      <td>Example text 4</td>\n",
       "      <td>Summarize...</td>\n",
       "      <td>Example Title 2</td>\n",
       "      <td>Heading\\nText...</td>\n",
       "    </tr>\n",
       "  </tbody>\n",
       "</table>\n",
       "</div>"
      ],
      "text/plain": [
       "     student_id prompt_id            text prompt_question     prompt_title  \\\n",
       "0  000000ffffff    abc123  Example text 1    Summarize...  Example Title 1   \n",
       "1  111111eeeeee    def789  Example text 2    Summarize...  Example Title 2   \n",
       "2  222222cccccc    abc123  Example text 3    Summarize...  Example Title 1   \n",
       "3  333333dddddd    def789  Example text 4    Summarize...  Example Title 2   \n",
       "\n",
       "        prompt_text  \n",
       "0  Heading\\nText...  \n",
       "1  Heading\\nText...  \n",
       "2  Heading\\nText...  \n",
       "3  Heading\\nText...  "
      ]
     },
     "execution_count": 3,
     "metadata": {},
     "output_type": "execute_result"
    }
   ],
   "source": [
    "test_data.head()"
   ]
  },
  {
   "cell_type": "markdown",
   "id": "4a5b6158-e416-423c-94d1-c3397a91bd8a",
   "metadata": {},
   "source": [
    "#### 2. Feature Engineering\n",
    "Key features to consider:\n",
    "\n",
    "Text length metrics (character count, word count)\n",
    "\n",
    "Lexical diversity (unique word ratio)\n",
    "\n",
    "Readability scores\n",
    "\n",
    "Prompt-specific features\n",
    "\n",
    "Semantic similarity between summary and prompt text\n",
    "\n",
    "Language model embeddings"
   ]
  },
  {
   "cell_type": "code",
   "execution_count": 4,
   "id": "0d0bdbc0-e279-4b27-a993-1898fea6cd0a",
   "metadata": {},
   "outputs": [],
   "source": [
    "import textstat\n",
    "from sklearn.feature_extraction.text import TfidfVectorizer\n",
    "\n",
    "def extract_features(df):\n",
    "    df['char_count'] = df['text'].apply(len)\n",
    "    df['word_count'] = df['text'].apply(lambda x: len(x.split()))\n",
    "    df['unique_word_ratio'] = df['text'].apply(lambda x: len(set(x.split()))/len(x.split()))\n",
    "    df['flesch_reading_ease'] = df['text'].apply(textstat.flesch_reading_ease)\n",
    "    # Add more features as needed\n",
    "    return df\n",
    "\n",
    "train_data = extract_features(train_data)\n",
    "test_data = extract_features(test_data)"
   ]
  },
  {
   "cell_type": "markdown",
   "id": "dcae33f1-98d3-4b1b-94b3-e9f8ed00efb8",
   "metadata": {},
   "source": [
    "#### 3. Modeling Approaches\n",
    "Traditional ML with Text Features"
   ]
  },
  {
   "cell_type": "code",
   "execution_count": 5,
   "id": "723675b3-0657-43eb-8dfe-b499c7670214",
   "metadata": {},
   "outputs": [],
   "source": [
    "from sklearn.ensemble import RandomForestRegressor\n",
    "from sklearn.metrics import mean_squared_error\n",
    "from sklearn.compose import ColumnTransformer\n",
    "from sklearn.pipeline import Pipeline\n",
    "\n",
    "# Define preprocessing\n",
    "preprocessor = ColumnTransformer(\n",
    "    transformers=[\n",
    "        ('text', TfidfVectorizer(), 'text'),\n",
    "        ('num', 'passthrough', ['char_count', 'word_count', 'unique_word_ratio'])\n",
    "    ])\n",
    "\n",
    "# Create pipeline\n",
    "model = Pipeline(steps=[\n",
    "    ('preprocessor', preprocessor),\n",
    "    ('regressor', RandomForestRegressor())\n",
    "])\n",
    "\n",
    "# Train separate models for content and wording\n",
    "content_model = model.fit(train_data, train_data['content'])\n",
    "wording_model = model.fit(train_data, train_data['wording'])"
   ]
  },
  {
   "cell_type": "markdown",
   "id": "054811d3-59ad-4e06-840c-1b8699bea1b5",
   "metadata": {},
   "source": [
    "#### 4. Evaluation"
   ]
  },
  {
   "cell_type": "code",
   "execution_count": 6,
   "id": "43c5bb2b-a787-4cde-924d-f50097318d12",
   "metadata": {},
   "outputs": [
    {
     "name": "stdout",
     "output_type": "stream",
     "text": [
      "MCRMSE: 0.09999999999999999\n"
     ]
    }
   ],
   "source": [
    "from sklearn.metrics import mean_squared_error\n",
    "import numpy as np\n",
    "\n",
    "def mcrmse(y_true, y_pred):\n",
    "    rmse_per_column = np.sqrt(mean_squared_error(y_true, y_pred, multioutput='raw_values'))\n",
    "    return np.mean(rmse_per_column)\n",
    "\n",
    "# Define the variables before using them\n",
    "# \n",
    "content_preds = np.array([0.5, 0.7, 0.9])  # predicted content scores\n",
    "wording_preds = np.array([0.6, 0.8, 0.7])  # predicted wording scores\n",
    "y_content = np.array([0.4, 0.6, 0.8])      # true content scores\n",
    "y_wording = np.array([0.5, 0.7, 0.6])      # true wording scores\n",
    "\n",
    "# Example evaluation\n",
    "y_pred = np.column_stack([content_preds, wording_preds])\n",
    "y_true = np.column_stack([y_content, y_wording])\n",
    "print(f\"MCRMSE: {mcrmse(y_true, y_pred)}\")"
   ]
  },
  {
   "cell_type": "markdown",
   "id": "08bfcf10-d452-4119-ab20-9efea9ba1c45",
   "metadata": {},
   "source": [
    "#### 5. Submission"
   ]
  },
  {
   "cell_type": "code",
   "execution_count": 7,
   "id": "1eb3e11f-176f-4b47-bda1-2fccf51e8a45",
   "metadata": {},
   "outputs": [],
   "source": [
    "# Generate predictions\n",
    "test_data['content'] = content_model.predict(test_data)\n",
    "test_data['wording'] = wording_model.predict(test_data)\n",
    "\n",
    "# Create submission\n",
    "submissions = test_data[['student_id', 'content', 'wording']]\n",
    "submissions.to_csv('submissions.csv', index=False)"
   ]
  },
  {
   "cell_type": "markdown",
   "id": "5d963535-9afb-4ab4-860e-8d0c1af9432a",
   "metadata": {},
   "source": [
    "#### Prompt-Aware Feature Engineering"
   ]
  },
  {
   "cell_type": "markdown",
   "id": "8a849497-115d-45c3-b050-5b1c3da91f3b",
   "metadata": {},
   "source": [
    "#### A. Basic Prompt Features"
   ]
  },
  {
   "cell_type": "code",
   "execution_count": 8,
   "id": "c0d43465-4a5a-4bda-a3e6-904010a6509d",
   "metadata": {},
   "outputs": [],
   "source": [
    "def add_prompt_features(df):\n",
    "    # Length features\n",
    "    df['prompt_text_length'] = df['prompt_text'].apply(len)\n",
    "    df['prompt_question_length'] = df['prompt_question'].apply(len)\n",
    "    \n",
    "    # Question type analysis\n",
    "    df['question_starts_with_what'] = df['prompt_question'].str.lower().str.startswith('what').astype(int)\n",
    "    df['question_starts_with_describe'] = df['prompt_question'].str.lower().str.startswith('describe').astype(int)\n",
    "    \n",
    "    return df\n",
    "\n",
    "train_data = add_prompt_features(train_data)\n",
    "test_data = add_prompt_features(test_data)"
   ]
  },
  {
   "cell_type": "markdown",
   "id": "9884662b-e6e9-4489-80ce-5f225cb0e9cd",
   "metadata": {},
   "source": [
    "#### B. Prompt-Summary Interaction Features"
   ]
  },
  {
   "cell_type": "code",
   "execution_count": 9,
   "id": "e525ca69-c9e0-4cb9-9d3b-444a620a1e92",
   "metadata": {},
   "outputs": [],
   "source": [
    "from sklearn.metrics.pairwise import cosine_similarity\n",
    "from sklearn.feature_extraction.text import TfidfVectorizer\n",
    "\n",
    "def add_interaction_features(df):\n",
    "    # TF-IDF similarity between prompt and summary\n",
    "    vectorizer = TfidfVectorizer()\n",
    "    prompt_vectors = vectorizer.fit_transform(df['prompt_text'])\n",
    "    summary_vectors = vectorizer.transform(df['text'])\n",
    "    \n",
    "    df['prompt_summary_similarity'] = cosine_similarity(prompt_vectors, summary_vectors).diagonal()\n",
    "    \n",
    "    return df\n",
    "\n",
    "train_data = add_interaction_features(train_data)\n",
    "test_data = add_interaction_features(test_data)"
   ]
  },
  {
   "cell_type": "markdown",
   "id": "839b3ffb-4706-4551-b488-b638e40da1a8",
   "metadata": {},
   "source": [
    "#### Prompt-Aware Modeling Approaches"
   ]
  },
  {
   "cell_type": "markdown",
   "id": "9a32a147-b692-4913-9ece-c18588ce738e",
   "metadata": {},
   "source": [
    "#### A. Prompt-Specific Models (For Few Prompts)"
   ]
  },
  {
   "cell_type": "code",
   "execution_count": 10,
   "id": "6223cc34-c6c2-4a6a-b21f-d03f39e6a820",
   "metadata": {},
   "outputs": [],
   "source": [
    "from sklearn.base import clone\n",
    "\n",
    "# Only works if we have few prompts with enough samples\n",
    "prompt_ids = train_data['prompt_id'].unique()\n",
    "prompt_models = {}\n",
    "\n",
    "for pid in prompt_ids:\n",
    "    prompt_data = train_data[train_data['prompt_id'] == pid]\n",
    "    models = clone(model)  # Your base model\n",
    "    prompt_models[pid] = models.fit(prompt_data, prompt_data[['content', 'wording']])"
   ]
  },
  {
   "cell_type": "markdown",
   "id": "22529b80-2e84-4bb7-942c-e68881c76514",
   "metadata": {},
   "source": [
    "#### B. Prompt Embeddings (Recommended)"
   ]
  },
  {
   "cell_type": "code",
   "execution_count": 11,
   "id": "1708d1d8-43c5-40ca-8774-296242355870",
   "metadata": {},
   "outputs": [],
   "source": [
    "\n",
    "from sentence_transformers import SentenceTransformer\n",
    "\n",
    "prompt_encoder = SentenceTransformer('all-MiniLM-L6-v2')\n",
    "\n",
    "# Encode prompts\n",
    "train_embeddings = prompt_encoder.encode(train_data['prompt_text'].tolist())\n",
    "test_embeddings = prompt_encoder.encode(test_data['prompt_text'].tolist())\n",
    "\n",
    "# Convert to DataFrame\n",
    "prompt_embed_cols = [f'prompt_emb_{i}' for i in range(train_embeddings.shape[1])]\n",
    "train_embed_df = pd.DataFrame(train_embeddings, columns=prompt_embed_cols, index=train_data.index)\n",
    "test_embed_df = pd.DataFrame(test_embeddings, columns=prompt_embed_cols, index=test_data.index)\n",
    "\n",
    "# Concatenate instead of inserting\n",
    "train_data = pd.concat([train_data, train_embed_df], axis=1)\n",
    "test_data = pd.concat([test_data, test_embed_df], axis=1)\n"
   ]
  },
  {
   "cell_type": "code",
   "execution_count": null,
   "id": "ce92db6b-4be0-4e4c-a575-3a52429a3cdb",
   "metadata": {},
   "outputs": [],
   "source": []
  },
  {
   "cell_type": "markdown",
   "id": "077ea4bd-755c-4538-ac9b-93ef134e0647",
   "metadata": {},
   "source": [
    "#### t-SNE or UMAP for cluster visualization\n",
    "\n",
    "These help reduce embeddings to 2D or 3D while preserving structure."
   ]
  },
  {
   "cell_type": "code",
   "execution_count": 12,
   "id": "86cfdeaa-e753-4b9a-ae40-f64d82dc01c3",
   "metadata": {},
   "outputs": [
    {
     "data": {
      "image/png": "[encoded data removed]",
      "text/plain": [
       "<Figure size 800x600 with 1 Axes>"
      ]
     },
     "metadata": {},
     "output_type": "display_data"
    }
   ],
   "source": [
    "import matplotlib.pyplot as plt\n",
    "from sklearn.manifold import TSNE\n",
    "import seaborn as sns\n",
    "\n",
    "# Take embeddings\n",
    "X_train = train_data[prompt_embed_cols].values\n",
    "\n",
    "# Reduce to 2D\n",
    "tsne = TSNE(n_components=2, random_state=42, perplexity=30)\n",
    "X_train_2d = tsne.fit_transform(X_train)\n",
    "\n",
    "# Plot with Seaborn\n",
    "plt.figure(figsize=(8,6))\n",
    "sns.scatterplot(x=X_train_2d[:,0], y=X_train_2d[:,1])\n",
    "plt.title(\"t-SNE projection of prompt embeddings\")\n",
    "plt.show()\n"
   ]
  },
  {
   "cell_type": "markdown",
   "id": "48046605-11ed-49b2-96a3-6fb30ad3fc05",
   "metadata": {},
   "source": [
    "#### PCA for variance understanding\n",
    "\n",
    "This shows how much variance is explained in each component."
   ]
  },
  {
   "cell_type": "code",
   "execution_count": 13,
   "id": "73061732-8f26-4a35-89ec-350adb8b5bad",
   "metadata": {},
   "outputs": [
    {
     "data": {
      "image/png": "[encoded data removed]",
      "text/plain": [
       "<Figure size 640x480 with 1 Axes>"
      ]
     },
     "metadata": {},
     "output_type": "display_data"
    }
   ],
   "source": [
    "from sklearn.decomposition import PCA\n",
    "\n",
    "pca = PCA(n_components=50)\n",
    "X_pca = pca.fit_transform(X_train)\n",
    "\n",
    "plt.plot(range(1, 51), pca.explained_variance_ratio_.cumsum(), marker='o')\n",
    "plt.xlabel('Number of Components')\n",
    "plt.ylabel('Cumulative Explained Variance')\n",
    "plt.title('PCA Explained Variance on Prompt Embeddings')\n",
    "plt.show()\n"
   ]
  },
  {
   "cell_type": "markdown",
   "id": "b4b91846-a11e-4a03-ac4f-4e32e741cc52",
   "metadata": {},
   "source": [
    "#### Compare train vs test distributions\n",
    "\n",
    "Compare the overlap of train and test embeddings:"
   ]
  },
  {
   "cell_type": "code",
   "execution_count": 14,
   "id": "4fced819-a78f-4de6-a74e-246fef51cf10",
   "metadata": {},
   "outputs": [
    {
     "data": {
      "image/png": "[encoded data removed]",
      "text/plain": [
       "<Figure size 800x600 with 1 Axes>"
      ]
     },
     "metadata": {},
     "output_type": "display_data"
    }
   ],
   "source": [
    "X_test = test_data[prompt_embed_cols].values\n",
    "X_all = np.vstack([X_train, X_test])\n",
    "\n",
    "tsne = TSNE(n_components=2, random_state=42)\n",
    "X_all_2d = tsne.fit_transform(X_all)\n",
    "\n",
    "train_size = len(train_data)\n",
    "plt.figure(figsize=(8,6))\n",
    "plt.scatter(X_all_2d[:train_size,0], X_all_2d[:train_size,1], alpha=0.5, label=\"Train\")\n",
    "plt.scatter(X_all_2d[train_size:,0], X_all_2d[train_size:,1], alpha=0.5, label=\"Test\")\n",
    "plt.legend()\n",
    "plt.title(\"t-SNE of Train vs Test Prompt Embeddings\")\n",
    "plt.show()\n"
   ]
  },
  {
   "cell_type": "code",
   "execution_count": null,
   "id": "6e564f1e-e642-4c05-88d1-9f360cbb7ed5",
   "metadata": {},
   "outputs": [],
   "source": []
  }
 ],
 "metadata": {
  "kernelspec": {
   "display_name": "Python [conda env:base] *",
   "language": "python",
   "name": "conda-base-py"
  },
  "language_info": {
   "codemirror_mode": {
    "name": "ipython",
    "version": 3
   },
   "file_extension": ".py",
   "mimetype": "text/x-python",
   "name": "python",
   "nbconvert_exporter": "python",
   "pygments_lexer": "ipython3",
   "version": "3.13.5"
  }
 },
 "nbformat": 4,
 "nbformat_minor": 5
}
